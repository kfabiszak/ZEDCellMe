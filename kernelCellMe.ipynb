{
  "cells": [
    {
      "metadata": {
        "_uuid": "8f2839f25d086af736a60e9eeb907d3b93b6e0e5",
        "_cell_guid": "b1076dfc-b9ad-4769-8c92-a6c4dae69d19",
        "trusted": true
      },
      "cell_type": "code",
      "source": "import pandas as pd # data processing, CSV file I/O (e.g. pd.read_csv)\nfrom sklearn.svm import LinearSVC",
      "execution_count": 16,
      "outputs": []
    },
    {
      "metadata": {
        "_cell_guid": "79c7e3d0-c299-4dcb-8224-4455121ee9b0",
        "_uuid": "d629ff2d2480ee46fbb7e2d37f6b5fab8052498a",
        "trusted": true
      },
      "cell_type": "code",
      "source": "reviews = pd.read_csv('../input/train.csv', sep = ',')",
      "execution_count": 17,
      "outputs": []
    },
    {
      "metadata": {
        "trusted": true,
        "_uuid": "4c2b5b5033397c708cab72cb3e3ffce0f2d42cec"
      },
      "cell_type": "code",
      "source": "reviews = reviews.drop([\"Product Name\", \"Brand Name\", \"Price\"], axis=1)\nreviews.head()",
      "execution_count": 18,
      "outputs": [
        {
          "output_type": "execute_result",
          "execution_count": 18,
          "data": {
            "text/plain": "   Id                                            Reviews  Rating\n0   1  I feel so LUCKY to have found this used (phone...       5\n1   2  nice phone, nice up grade from my pantach revu...       4\n2   3                                       Very pleased       5\n3   4  It works good but it goes slow sometimes but i...       4\n4   5  Great phone to replace my lost phone. The only...       4",
            "text/html": "<div>\n<style scoped>\n    .dataframe tbody tr th:only-of-type {\n        vertical-align: middle;\n    }\n\n    .dataframe tbody tr th {\n        vertical-align: top;\n    }\n\n    .dataframe thead th {\n        text-align: right;\n    }\n</style>\n<table border=\"1\" class=\"dataframe\">\n  <thead>\n    <tr style=\"text-align: right;\">\n      <th></th>\n      <th>Id</th>\n      <th>Reviews</th>\n      <th>Rating</th>\n    </tr>\n  </thead>\n  <tbody>\n    <tr>\n      <th>0</th>\n      <td>1</td>\n      <td>I feel so LUCKY to have found this used (phone...</td>\n      <td>5</td>\n    </tr>\n    <tr>\n      <th>1</th>\n      <td>2</td>\n      <td>nice phone, nice up grade from my pantach revu...</td>\n      <td>4</td>\n    </tr>\n    <tr>\n      <th>2</th>\n      <td>3</td>\n      <td>Very pleased</td>\n      <td>5</td>\n    </tr>\n    <tr>\n      <th>3</th>\n      <td>4</td>\n      <td>It works good but it goes slow sometimes but i...</td>\n      <td>4</td>\n    </tr>\n    <tr>\n      <th>4</th>\n      <td>5</td>\n      <td>Great phone to replace my lost phone. The only...</td>\n      <td>4</td>\n    </tr>\n  </tbody>\n</table>\n</div>"
          },
          "metadata": {}
        }
      ]
    },
    {
      "metadata": {
        "trusted": true,
        "_uuid": "1f49ebe486dbf0cfead305b162026ce6de8a45f5"
      },
      "cell_type": "code",
      "source": "reviews.head()",
      "execution_count": 19,
      "outputs": [
        {
          "output_type": "execute_result",
          "execution_count": 19,
          "data": {
            "text/plain": "   Id                                            Reviews  Rating\n0   1  I feel so LUCKY to have found this used (phone...       5\n1   2  nice phone, nice up grade from my pantach revu...       4\n2   3                                       Very pleased       5\n3   4  It works good but it goes slow sometimes but i...       4\n4   5  Great phone to replace my lost phone. The only...       4",
            "text/html": "<div>\n<style scoped>\n    .dataframe tbody tr th:only-of-type {\n        vertical-align: middle;\n    }\n\n    .dataframe tbody tr th {\n        vertical-align: top;\n    }\n\n    .dataframe thead th {\n        text-align: right;\n    }\n</style>\n<table border=\"1\" class=\"dataframe\">\n  <thead>\n    <tr style=\"text-align: right;\">\n      <th></th>\n      <th>Id</th>\n      <th>Reviews</th>\n      <th>Rating</th>\n    </tr>\n  </thead>\n  <tbody>\n    <tr>\n      <th>0</th>\n      <td>1</td>\n      <td>I feel so LUCKY to have found this used (phone...</td>\n      <td>5</td>\n    </tr>\n    <tr>\n      <th>1</th>\n      <td>2</td>\n      <td>nice phone, nice up grade from my pantach revu...</td>\n      <td>4</td>\n    </tr>\n    <tr>\n      <th>2</th>\n      <td>3</td>\n      <td>Very pleased</td>\n      <td>5</td>\n    </tr>\n    <tr>\n      <th>3</th>\n      <td>4</td>\n      <td>It works good but it goes slow sometimes but i...</td>\n      <td>4</td>\n    </tr>\n    <tr>\n      <th>4</th>\n      <td>5</td>\n      <td>Great phone to replace my lost phone. The only...</td>\n      <td>4</td>\n    </tr>\n  </tbody>\n</table>\n</div>"
          },
          "metadata": {}
        }
      ]
    },
    {
      "metadata": {
        "trusted": true,
        "_uuid": "d772eaf1e7acc94bf7ba612bbd5f21bd51ac95ae"
      },
      "cell_type": "code",
      "source": "print(reviews['Reviews'].isnull().sum())\nreviews['Reviews'] = reviews['Reviews'].fillna('')\nprint(reviews['Reviews'].isnull().sum())",
      "execution_count": 20,
      "outputs": [
        {
          "output_type": "stream",
          "text": "26\n0\n",
          "name": "stdout"
        }
      ]
    },
    {
      "metadata": {
        "trusted": true,
        "_uuid": "0152c73f6c19894839a1744f05b0312fc51b087f"
      },
      "cell_type": "code",
      "source": "print(reviews['Rating'].isnull().sum())",
      "execution_count": 21,
      "outputs": [
        {
          "output_type": "stream",
          "text": "0\n",
          "name": "stdout"
        }
      ]
    },
    {
      "metadata": {
        "trusted": true,
        "_uuid": "a5c656a0a27f76e003b08acf18fbc69da125823c"
      },
      "cell_type": "code",
      "source": "reviews.dtypes\nreviews['Reviews'] = reviews.Reviews.apply(str)\n# reviews['Reviews'] = reviews['Reviews'].astype(str)\nreviews.dtypes",
      "execution_count": 22,
      "outputs": [
        {
          "output_type": "execute_result",
          "execution_count": 22,
          "data": {
            "text/plain": "Id          int64\nReviews    object\nRating      int64\ndtype: object"
          },
          "metadata": {}
        }
      ]
    },
    {
      "metadata": {
        "trusted": true,
        "_uuid": "0b77cfba0d733d73e96931825e863f796ee40faa"
      },
      "cell_type": "code",
      "source": "reviews['Reviews'] = [review.lower() for review in reviews['Reviews']]",
      "execution_count": 23,
      "outputs": []
    },
    {
      "metadata": {
        "trusted": true,
        "_uuid": "75a211399155c2b827680b44a4091cde5e8cd6cc"
      },
      "cell_type": "code",
      "source": "from sklearn.feature_extraction.text import TfidfVectorizer\n \n# This vectorizer breaks text into single words and bi-grams\n# and then calculates the TF-IDF representation\nvectorizer = TfidfVectorizer(ngram_range=(1,2))\n \n# the 'fit' builds up the vocabulary from all the reviews\n# while the 'transform' step turns each indivdual text into\n# a matrix of numbers.\nreviews['Vectorized'] = vectorizer.fit_transform(reviews.Reviews)",
      "execution_count": 24,
      "outputs": []
    },
    {
      "metadata": {
        "trusted": true,
        "_uuid": "c7553c993bc1d1f7460d294edee5f0bc8461e050"
      },
      "cell_type": "code",
      "source": "test = pd.read_csv('../input/test.csv', sep = ',')",
      "execution_count": 25,
      "outputs": []
    },
    {
      "metadata": {
        "trusted": true,
        "_uuid": "41a794fbd958c6f2aa25e1e68c25cdcb63923ee3"
      },
      "cell_type": "code",
      "source": "print(test['Reviews'].isnull().sum())\ntest['Reviews'] = test['Reviews'].fillna('')\nprint(test['Reviews'].isnull().sum())",
      "execution_count": 26,
      "outputs": [
        {
          "output_type": "stream",
          "text": "36\n0\n",
          "name": "stdout"
        }
      ]
    },
    {
      "metadata": {
        "trusted": true,
        "_uuid": "cae10f9bafc0efb289ba41e2e80dd419f5cd8c1a"
      },
      "cell_type": "code",
      "source": "test['Reviews'] = test.Reviews.apply(str)",
      "execution_count": 27,
      "outputs": []
    },
    {
      "metadata": {
        "trusted": true,
        "_uuid": "e321e4016936ed5f0275947dd9ac10181b89d51f"
      },
      "cell_type": "code",
      "source": "test['Reviews'] = [review.lower() for review in test['Reviews']]",
      "execution_count": 28,
      "outputs": []
    },
    {
      "metadata": {
        "trusted": true,
        "_uuid": "d694b5e853e1b3284d62cbfbf8c22fb9d6815583"
      },
      "cell_type": "code",
      "source": "test.head()",
      "execution_count": 29,
      "outputs": [
        {
          "output_type": "execute_result",
          "execution_count": 29,
          "data": {
            "text/plain": "       Id                        ...                                                                    Reviews\n0  202646                        ...                                                                   excelent\n1  202647                        ...                                                   fit perfectly. excelent.\n2  202648                        ...                            it has a very good relation, price/performance.\n3  202649                        ...                                                              like it a lot\n4  202650                        ...                          dear , i had a problem wich the wifi senial !!...\n\n[5 rows x 5 columns]",
            "text/html": "<div>\n<style scoped>\n    .dataframe tbody tr th:only-of-type {\n        vertical-align: middle;\n    }\n\n    .dataframe tbody tr th {\n        vertical-align: top;\n    }\n\n    .dataframe thead th {\n        text-align: right;\n    }\n</style>\n<table border=\"1\" class=\"dataframe\">\n  <thead>\n    <tr style=\"text-align: right;\">\n      <th></th>\n      <th>Id</th>\n      <th>Product Name</th>\n      <th>Brand Name</th>\n      <th>Price</th>\n      <th>Reviews</th>\n    </tr>\n  </thead>\n  <tbody>\n    <tr>\n      <th>0</th>\n      <td>202646</td>\n      <td>Huawei P8 Lite ALE-L23 Factory Unlocked 16GB L...</td>\n      <td>Huawei</td>\n      <td>184.9</td>\n      <td>excelent</td>\n    </tr>\n    <tr>\n      <th>1</th>\n      <td>202647</td>\n      <td>Huawei P8 Lite ALE-L23 Factory Unlocked 16GB L...</td>\n      <td>Huawei</td>\n      <td>184.9</td>\n      <td>fit perfectly. excelent.</td>\n    </tr>\n    <tr>\n      <th>2</th>\n      <td>202648</td>\n      <td>Huawei P8 Lite ALE-L23 Factory Unlocked 16GB L...</td>\n      <td>Huawei</td>\n      <td>184.9</td>\n      <td>it has a very good relation, price/performance.</td>\n    </tr>\n    <tr>\n      <th>3</th>\n      <td>202649</td>\n      <td>Huawei P8 Lite ALE-L23 Factory Unlocked 16GB L...</td>\n      <td>Huawei</td>\n      <td>184.9</td>\n      <td>like it a lot</td>\n    </tr>\n    <tr>\n      <th>4</th>\n      <td>202650</td>\n      <td>Huawei P8 Lite ALE-L23 Factory Unlocked 16GB L...</td>\n      <td>Huawei</td>\n      <td>184.9</td>\n      <td>dear , i had a problem wich the wifi senial !!...</td>\n    </tr>\n  </tbody>\n</table>\n</div>"
          },
          "metadata": {}
        }
      ]
    },
    {
      "metadata": {
        "trusted": true,
        "_uuid": "4e241ea2e6e794c151c08e7810b4e4558896b97c"
      },
      "cell_type": "code",
      "source": "test = test.drop([\"Product Name\", \"Brand Name\", \"Price\"], axis=1)",
      "execution_count": 30,
      "outputs": []
    },
    {
      "metadata": {
        "trusted": true,
        "_uuid": "383129729834b7587b0a3db2c4ca9f1bd29ce21c"
      },
      "cell_type": "code",
      "source": "test['Vectorized'] = vectorizer.transform(test.Reviews)",
      "execution_count": 31,
      "outputs": []
    },
    {
      "metadata": {
        "trusted": true,
        "_uuid": "69025a761e47a3b5a6486d7ad236a6f890b4652a"
      },
      "cell_type": "code",
      "source": "classf = LinearSVC()\nclassf.fit(reviews['Vectorized'][0], reviews['Rating'])",
      "execution_count": 32,
      "outputs": [
        {
          "output_type": "execute_result",
          "execution_count": 32,
          "data": {
            "text/plain": "LinearSVC(C=1.0, class_weight=None, dual=True, fit_intercept=True,\n     intercept_scaling=1, loss='squared_hinge', max_iter=1000,\n     multi_class='ovr', penalty='l2', random_state=None, tol=0.0001,\n     verbose=0)"
          },
          "metadata": {}
        }
      ]
    },
    {
      "metadata": {
        "trusted": true,
        "_uuid": "f377d78f85681a6c244d1251f9f13ce1d512182b"
      },
      "cell_type": "code",
      "source": "test['Rating'] = classf.predict(test['Vectorized'][0])",
      "execution_count": 33,
      "outputs": []
    },
    {
      "metadata": {
        "trusted": true,
        "_uuid": "a1285bfe3357218968776aca4878f5485d3fe9aa"
      },
      "cell_type": "code",
      "source": "test = test.drop([\"Reviews\", \"Vectorized\"], axis=1)",
      "execution_count": 34,
      "outputs": []
    },
    {
      "metadata": {
        "trusted": true,
        "_uuid": "e26bbc5865ae266fe269369d3cc04000faaf9e3b"
      },
      "cell_type": "code",
      "source": "test.to_csv('submission.csv', index=False)",
      "execution_count": 35,
      "outputs": []
    }
  ],
  "metadata": {
    "kernelspec": {
      "display_name": "Python 3",
      "language": "python",
      "name": "python3"
    },
    "language_info": {
      "name": "python",
      "version": "3.6.6",
      "mimetype": "text/x-python",
      "codemirror_mode": {
        "name": "ipython",
        "version": 3
      },
      "pygments_lexer": "ipython3",
      "nbconvert_exporter": "python",
      "file_extension": ".py"
    }
  },
  "nbformat": 4,
  "nbformat_minor": 1
}